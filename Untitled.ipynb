{
 "cells": [
  {
   "cell_type": "markdown",
   "id": "ae132788-8913-434f-b278-001f6a80fe12",
   "metadata": {},
   "source": [
    "**This is a dataset of an online sales performance**\n",
    "\n",
    "\n",
    "\n",
    "# PROBLEM STATEMENT\n",
    "***An online sales store need to maximines their sales performance in other to improve on their product\n",
    "and also know the target market to focus on, including the products and customers.***\n",
    "\n",
    "\n",
    "\n",
    "# APPROACH\n",
    "\n",
    "***Load dataset***\n",
    "\n",
    "***Exploratory Data Analysis(EDA)***\n",
    "\n",
    "***Visualization***\n",
    "\n",
    "***Interpretation***\n",
    "\n",
    "***Conclution***\n"
   ]
  },
  {
   "cell_type": "code",
   "execution_count": 3,
   "id": "2f0aa525-f998-4fcc-a813-856771a690f5",
   "metadata": {},
   "outputs": [],
   "source": [
    "# This python 3 envinroment comes with many helpful analysis libraries installed\n",
    "\n",
    "import numpy as np\n",
    "import pandas as pd\n",
    "import matplotlib.pyplot as plt\n",
    "from matplotlib.colors import LinearSegmentedColormap\n",
    "import seaborn as sb \n",
    "import plotly.express as px\n",
    "pd.set_option('display.max_columns', None)\n",
    "pd.set_option('display.max_rows', None)\n",
    "plt.rcParams[\"figure.figsize\"] = (6,4)\n"
   ]
  },
  {
   "cell_type": "markdown",
   "id": "6e45a681-0b48-4f78-bb06-fed0e4682aab",
   "metadata": {},
   "source": [
    "**LOAD DATA**"
   ]
  },
  {
   "cell_type": "code",
   "execution_count": 5,
   "id": "5397cd9f-8d41-47ed-9ccb-8a26986111b8",
   "metadata": {},
   "outputs": [],
   "source": [
    "os_df = pd.read_csv('online_sales_dataset.csv')"
   ]
  },
  {
   "cell_type": "markdown",
   "id": "e0ef7c51-3e3f-4998-83e7-c88f59b970d9",
   "metadata": {},
   "source": [
    "# ***Exploratory Data Analysis***"
   ]
  },
  {
   "cell_type": "code",
   "execution_count": 7,
   "id": "2da187b4-a105-4ca5-be1e-556d0e08ff9e",
   "metadata": {},
   "outputs": [
    {
     "data": {
      "text/html": [
       "<div>\n",
       "<style scoped>\n",
       "    .dataframe tbody tr th:only-of-type {\n",
       "        vertical-align: middle;\n",
       "    }\n",
       "\n",
       "    .dataframe tbody tr th {\n",
       "        vertical-align: top;\n",
       "    }\n",
       "\n",
       "    .dataframe thead th {\n",
       "        text-align: right;\n",
       "    }\n",
       "</style>\n",
       "<table border=\"1\" class=\"dataframe\">\n",
       "  <thead>\n",
       "    <tr style=\"text-align: right;\">\n",
       "      <th></th>\n",
       "      <th>InvoiceNo</th>\n",
       "      <th>StockCode</th>\n",
       "      <th>Description</th>\n",
       "      <th>Quantity</th>\n",
       "      <th>InvoiceDate</th>\n",
       "      <th>UnitPrice</th>\n",
       "      <th>CustomerID</th>\n",
       "      <th>Country</th>\n",
       "      <th>Discount</th>\n",
       "      <th>PaymentMethod</th>\n",
       "      <th>ShippingCost</th>\n",
       "      <th>Category</th>\n",
       "      <th>SalesChannel</th>\n",
       "      <th>ReturnStatus</th>\n",
       "      <th>ShipmentProvider</th>\n",
       "      <th>WarehouseLocation</th>\n",
       "      <th>OrderPriority</th>\n",
       "    </tr>\n",
       "  </thead>\n",
       "  <tbody>\n",
       "    <tr>\n",
       "      <th>0</th>\n",
       "      <td>221958</td>\n",
       "      <td>SKU_1964</td>\n",
       "      <td>White Mug</td>\n",
       "      <td>38</td>\n",
       "      <td>2020-01-01 00:00</td>\n",
       "      <td>1.71</td>\n",
       "      <td>37039.0</td>\n",
       "      <td>Australia</td>\n",
       "      <td>0.470000</td>\n",
       "      <td>Bank Transfer</td>\n",
       "      <td>10.79</td>\n",
       "      <td>Apparel</td>\n",
       "      <td>In-store</td>\n",
       "      <td>Not Returned</td>\n",
       "      <td>UPS</td>\n",
       "      <td>London</td>\n",
       "      <td>Medium</td>\n",
       "    </tr>\n",
       "    <tr>\n",
       "      <th>1</th>\n",
       "      <td>771155</td>\n",
       "      <td>SKU_1241</td>\n",
       "      <td>White Mug</td>\n",
       "      <td>18</td>\n",
       "      <td>2020-01-01 01:00</td>\n",
       "      <td>41.25</td>\n",
       "      <td>19144.0</td>\n",
       "      <td>Spain</td>\n",
       "      <td>0.190000</td>\n",
       "      <td>paypall</td>\n",
       "      <td>9.51</td>\n",
       "      <td>Electronics</td>\n",
       "      <td>Online</td>\n",
       "      <td>Not Returned</td>\n",
       "      <td>UPS</td>\n",
       "      <td>Rome</td>\n",
       "      <td>Medium</td>\n",
       "    </tr>\n",
       "    <tr>\n",
       "      <th>2</th>\n",
       "      <td>231932</td>\n",
       "      <td>SKU_1501</td>\n",
       "      <td>Headphones</td>\n",
       "      <td>49</td>\n",
       "      <td>2020-01-01 02:00</td>\n",
       "      <td>29.11</td>\n",
       "      <td>50472.0</td>\n",
       "      <td>Germany</td>\n",
       "      <td>0.350000</td>\n",
       "      <td>Bank Transfer</td>\n",
       "      <td>23.03</td>\n",
       "      <td>Electronics</td>\n",
       "      <td>Online</td>\n",
       "      <td>Returned</td>\n",
       "      <td>UPS</td>\n",
       "      <td>Berlin</td>\n",
       "      <td>High</td>\n",
       "    </tr>\n",
       "    <tr>\n",
       "      <th>3</th>\n",
       "      <td>465838</td>\n",
       "      <td>SKU_1760</td>\n",
       "      <td>Desk Lamp</td>\n",
       "      <td>14</td>\n",
       "      <td>2020-01-01 03:00</td>\n",
       "      <td>76.68</td>\n",
       "      <td>96586.0</td>\n",
       "      <td>Netherlands</td>\n",
       "      <td>0.140000</td>\n",
       "      <td>paypall</td>\n",
       "      <td>11.08</td>\n",
       "      <td>Accessories</td>\n",
       "      <td>Online</td>\n",
       "      <td>Not Returned</td>\n",
       "      <td>Royal Mail</td>\n",
       "      <td>Rome</td>\n",
       "      <td>Low</td>\n",
       "    </tr>\n",
       "    <tr>\n",
       "      <th>4</th>\n",
       "      <td>359178</td>\n",
       "      <td>SKU_1386</td>\n",
       "      <td>USB Cable</td>\n",
       "      <td>-30</td>\n",
       "      <td>2020-01-01 04:00</td>\n",
       "      <td>-68.11</td>\n",
       "      <td>NaN</td>\n",
       "      <td>United Kingdom</td>\n",
       "      <td>1.501433</td>\n",
       "      <td>Bank Transfer</td>\n",
       "      <td>NaN</td>\n",
       "      <td>Electronics</td>\n",
       "      <td>In-store</td>\n",
       "      <td>Not Returned</td>\n",
       "      <td>FedEx</td>\n",
       "      <td>NaN</td>\n",
       "      <td>Medium</td>\n",
       "    </tr>\n",
       "    <tr>\n",
       "      <th>5</th>\n",
       "      <td>744167</td>\n",
       "      <td>SKU_1006</td>\n",
       "      <td>Office Chair</td>\n",
       "      <td>47</td>\n",
       "      <td>2020-01-01 05:00</td>\n",
       "      <td>70.16</td>\n",
       "      <td>53887.0</td>\n",
       "      <td>Sweden</td>\n",
       "      <td>0.480000</td>\n",
       "      <td>Credit Card</td>\n",
       "      <td>13.98</td>\n",
       "      <td>Electronics</td>\n",
       "      <td>Online</td>\n",
       "      <td>Not Returned</td>\n",
       "      <td>DHL</td>\n",
       "      <td>London</td>\n",
       "      <td>Medium</td>\n",
       "    </tr>\n",
       "  </tbody>\n",
       "</table>\n",
       "</div>"
      ],
      "text/plain": [
       "   InvoiceNo StockCode   Description  Quantity       InvoiceDate  UnitPrice  \\\n",
       "0     221958  SKU_1964     White Mug        38  2020-01-01 00:00       1.71   \n",
       "1     771155  SKU_1241     White Mug        18  2020-01-01 01:00      41.25   \n",
       "2     231932  SKU_1501    Headphones        49  2020-01-01 02:00      29.11   \n",
       "3     465838  SKU_1760     Desk Lamp        14  2020-01-01 03:00      76.68   \n",
       "4     359178  SKU_1386     USB Cable       -30  2020-01-01 04:00     -68.11   \n",
       "5     744167  SKU_1006  Office Chair        47  2020-01-01 05:00      70.16   \n",
       "\n",
       "   CustomerID         Country  Discount  PaymentMethod  ShippingCost  \\\n",
       "0     37039.0       Australia  0.470000  Bank Transfer         10.79   \n",
       "1     19144.0           Spain  0.190000        paypall          9.51   \n",
       "2     50472.0         Germany  0.350000  Bank Transfer         23.03   \n",
       "3     96586.0     Netherlands  0.140000        paypall         11.08   \n",
       "4         NaN  United Kingdom  1.501433  Bank Transfer           NaN   \n",
       "5     53887.0          Sweden  0.480000    Credit Card         13.98   \n",
       "\n",
       "      Category SalesChannel  ReturnStatus ShipmentProvider WarehouseLocation  \\\n",
       "0      Apparel     In-store  Not Returned              UPS            London   \n",
       "1  Electronics       Online  Not Returned              UPS              Rome   \n",
       "2  Electronics       Online      Returned              UPS            Berlin   \n",
       "3  Accessories       Online  Not Returned       Royal Mail              Rome   \n",
       "4  Electronics     In-store  Not Returned            FedEx               NaN   \n",
       "5  Electronics       Online  Not Returned              DHL            London   \n",
       "\n",
       "  OrderPriority  \n",
       "0        Medium  \n",
       "1        Medium  \n",
       "2          High  \n",
       "3           Low  \n",
       "4        Medium  \n",
       "5        Medium  "
      ]
     },
     "execution_count": 7,
     "metadata": {},
     "output_type": "execute_result"
    }
   ],
   "source": [
    "os_df.head(6) "
   ]
  },
  {
   "cell_type": "markdown",
   "id": "0bc47a3a-6057-4ba1-b0d4-29d50ab80817",
   "metadata": {},
   "source": [
    "\n",
    "\n",
    "***The dataset shows information of sales around the globe inclusing instore and online sales, including various forms of varified payment methods and goods on sale.***"
   ]
  },
  {
   "cell_type": "code",
   "execution_count": 9,
   "id": "e0338a46-381c-4e44-bcd3-935e3bec3d6d",
   "metadata": {},
   "outputs": [
    {
     "name": "stdout",
     "output_type": "stream",
     "text": [
      "<class 'pandas.core.frame.DataFrame'>\n",
      "RangeIndex: 49782 entries, 0 to 49781\n",
      "Data columns (total 17 columns):\n",
      " #   Column             Non-Null Count  Dtype  \n",
      "---  ------             --------------  -----  \n",
      " 0   InvoiceNo          49782 non-null  int64  \n",
      " 1   StockCode          49782 non-null  object \n",
      " 2   Description        49782 non-null  object \n",
      " 3   Quantity           49782 non-null  int64  \n",
      " 4   InvoiceDate        49782 non-null  object \n",
      " 5   UnitPrice          49782 non-null  float64\n",
      " 6   CustomerID         44804 non-null  float64\n",
      " 7   Country            49782 non-null  object \n",
      " 8   Discount           49782 non-null  float64\n",
      " 9   PaymentMethod      49782 non-null  object \n",
      " 10  ShippingCost       47293 non-null  float64\n",
      " 11  Category           49782 non-null  object \n",
      " 12  SalesChannel       49782 non-null  object \n",
      " 13  ReturnStatus       49782 non-null  object \n",
      " 14  ShipmentProvider   49782 non-null  object \n",
      " 15  WarehouseLocation  46297 non-null  object \n",
      " 16  OrderPriority      49782 non-null  object \n",
      "dtypes: float64(4), int64(2), object(11)\n",
      "memory usage: 6.5+ MB\n"
     ]
    }
   ],
   "source": [
    "os_df.info()"
   ]
  },
  {
   "cell_type": "code",
   "execution_count": 10,
   "id": "1e1f72bb-98fb-4e43-ab2e-e49b5de8145d",
   "metadata": {},
   "outputs": [
    {
     "data": {
      "text/plain": [
       "InvoiceNo               0\n",
       "StockCode               0\n",
       "Description             0\n",
       "Quantity                0\n",
       "InvoiceDate             0\n",
       "UnitPrice               0\n",
       "CustomerID           4978\n",
       "Country                 0\n",
       "Discount                0\n",
       "PaymentMethod           0\n",
       "ShippingCost         2489\n",
       "Category                0\n",
       "SalesChannel            0\n",
       "ReturnStatus            0\n",
       "ShipmentProvider        0\n",
       "WarehouseLocation    3485\n",
       "OrderPriority           0\n",
       "dtype: int64"
      ]
     },
     "execution_count": 10,
     "metadata": {},
     "output_type": "execute_result"
    }
   ],
   "source": [
    "os_df.isnull().sum()"
   ]
  },
  {
   "cell_type": "markdown",
   "id": "94eb82fb-8ba3-4e70-913f-daf2adb00a42",
   "metadata": {},
   "source": [
    "***Dataset shows that both Customer ID, ShippingCost and Warehouselocation column are carring Null value and it needs to be filled for accurrate analysis to carried out***"
   ]
  },
  {
   "cell_type": "code",
   "execution_count": 12,
   "id": "81efdd03-9fb2-4022-ae8b-e3887a485f91",
   "metadata": {},
   "outputs": [
    {
     "data": {
      "text/html": [
       "<div>\n",
       "<style scoped>\n",
       "    .dataframe tbody tr th:only-of-type {\n",
       "        vertical-align: middle;\n",
       "    }\n",
       "\n",
       "    .dataframe tbody tr th {\n",
       "        vertical-align: top;\n",
       "    }\n",
       "\n",
       "    .dataframe thead th {\n",
       "        text-align: right;\n",
       "    }\n",
       "</style>\n",
       "<table border=\"1\" class=\"dataframe\">\n",
       "  <thead>\n",
       "    <tr style=\"text-align: right;\">\n",
       "      <th></th>\n",
       "      <th>InvoiceNo</th>\n",
       "      <th>Quantity</th>\n",
       "      <th>UnitPrice</th>\n",
       "      <th>CustomerID</th>\n",
       "      <th>Discount</th>\n",
       "      <th>ShippingCost</th>\n",
       "    </tr>\n",
       "  </thead>\n",
       "  <tbody>\n",
       "    <tr>\n",
       "      <th>count</th>\n",
       "      <td>49782.000000</td>\n",
       "      <td>49782.000000</td>\n",
       "      <td>49782.000000</td>\n",
       "      <td>44804.000000</td>\n",
       "      <td>49782.000000</td>\n",
       "      <td>47293.000000</td>\n",
       "    </tr>\n",
       "    <tr>\n",
       "      <th>mean</th>\n",
       "      <td>550681.239946</td>\n",
       "      <td>22.372343</td>\n",
       "      <td>47.537862</td>\n",
       "      <td>55032.871775</td>\n",
       "      <td>0.275748</td>\n",
       "      <td>17.494529</td>\n",
       "    </tr>\n",
       "    <tr>\n",
       "      <th>std</th>\n",
       "      <td>260703.009944</td>\n",
       "      <td>17.917774</td>\n",
       "      <td>33.479510</td>\n",
       "      <td>25913.660157</td>\n",
       "      <td>0.230077</td>\n",
       "      <td>7.220557</td>\n",
       "    </tr>\n",
       "    <tr>\n",
       "      <th>min</th>\n",
       "      <td>100005.000000</td>\n",
       "      <td>-50.000000</td>\n",
       "      <td>-99.980000</td>\n",
       "      <td>10001.000000</td>\n",
       "      <td>0.000000</td>\n",
       "      <td>5.000000</td>\n",
       "    </tr>\n",
       "    <tr>\n",
       "      <th>25%</th>\n",
       "      <td>324543.000000</td>\n",
       "      <td>11.000000</td>\n",
       "      <td>23.592500</td>\n",
       "      <td>32750.750000</td>\n",
       "      <td>0.130000</td>\n",
       "      <td>11.220000</td>\n",
       "    </tr>\n",
       "    <tr>\n",
       "      <th>50%</th>\n",
       "      <td>552244.000000</td>\n",
       "      <td>23.000000</td>\n",
       "      <td>48.920000</td>\n",
       "      <td>55165.000000</td>\n",
       "      <td>0.260000</td>\n",
       "      <td>17.500000</td>\n",
       "    </tr>\n",
       "    <tr>\n",
       "      <th>75%</th>\n",
       "      <td>776364.000000</td>\n",
       "      <td>37.000000</td>\n",
       "      <td>74.610000</td>\n",
       "      <td>77306.250000</td>\n",
       "      <td>0.380000</td>\n",
       "      <td>23.720000</td>\n",
       "    </tr>\n",
       "    <tr>\n",
       "      <th>max</th>\n",
       "      <td>999997.000000</td>\n",
       "      <td>49.000000</td>\n",
       "      <td>100.000000</td>\n",
       "      <td>99998.000000</td>\n",
       "      <td>1.999764</td>\n",
       "      <td>30.000000</td>\n",
       "    </tr>\n",
       "  </tbody>\n",
       "</table>\n",
       "</div>"
      ],
      "text/plain": [
       "           InvoiceNo      Quantity     UnitPrice    CustomerID      Discount  \\\n",
       "count   49782.000000  49782.000000  49782.000000  44804.000000  49782.000000   \n",
       "mean   550681.239946     22.372343     47.537862  55032.871775      0.275748   \n",
       "std    260703.009944     17.917774     33.479510  25913.660157      0.230077   \n",
       "min    100005.000000    -50.000000    -99.980000  10001.000000      0.000000   \n",
       "25%    324543.000000     11.000000     23.592500  32750.750000      0.130000   \n",
       "50%    552244.000000     23.000000     48.920000  55165.000000      0.260000   \n",
       "75%    776364.000000     37.000000     74.610000  77306.250000      0.380000   \n",
       "max    999997.000000     49.000000    100.000000  99998.000000      1.999764   \n",
       "\n",
       "       ShippingCost  \n",
       "count  47293.000000  \n",
       "mean      17.494529  \n",
       "std        7.220557  \n",
       "min        5.000000  \n",
       "25%       11.220000  \n",
       "50%       17.500000  \n",
       "75%       23.720000  \n",
       "max       30.000000  "
      ]
     },
     "execution_count": 12,
     "metadata": {},
     "output_type": "execute_result"
    }
   ],
   "source": [
    "os_df.describe()"
   ]
  },
  {
   "cell_type": "markdown",
   "id": "28d99fcc-1984-4647-84dc-a187a0c9b1f1",
   "metadata": {},
   "source": [
    "***There are inconsistancy in the dataset, clearly there should not be negetive figure on the unitprice and quantity column, it will be fix right away***"
   ]
  },
  {
   "cell_type": "code",
   "execution_count": 14,
   "id": "8e42a496-1ff7-4dbc-9743-224c0e7613e1",
   "metadata": {},
   "outputs": [
    {
     "data": {
      "text/plain": [
       "0"
      ]
     },
     "execution_count": 14,
     "metadata": {},
     "output_type": "execute_result"
    }
   ],
   "source": [
    "os_df.duplicated().sum()"
   ]
  },
  {
   "cell_type": "markdown",
   "id": "0be647b8-0803-40c3-83ac-0ea89c5ce2e5",
   "metadata": {},
   "source": [
    "***Dataset has zero duplicated files, perfect***"
   ]
  },
  {
   "cell_type": "code",
   "execution_count": 16,
   "id": "ac42a052-5712-408e-9b49-d9105a9ad1f3",
   "metadata": {},
   "outputs": [
    {
     "data": {
      "text/plain": [
       "1493"
      ]
     },
     "execution_count": 16,
     "metadata": {},
     "output_type": "execute_result"
    }
   ],
   "source": [
    "os_df[os_df['UnitPrice'] <0]['UnitPrice'].count()"
   ]
  },
  {
   "cell_type": "code",
   "execution_count": 17,
   "id": "0a4446a3-b60b-4d8b-b6a5-688540e67b37",
   "metadata": {},
   "outputs": [
    {
     "data": {
      "text/plain": [
       "0"
      ]
     },
     "execution_count": 17,
     "metadata": {},
     "output_type": "execute_result"
    }
   ],
   "source": [
    "os_df['UnitPrice'] = os_df['UnitPrice'].abs()\n",
    "os_df[os_df['UnitPrice'] <0]['UnitPrice'].count()"
   ]
  },
  {
   "cell_type": "code",
   "execution_count": 18,
   "id": "bc56e351-2e99-49fa-a455-70a07ed07658",
   "metadata": {},
   "outputs": [
    {
     "data": {
      "text/plain": [
       "2489"
      ]
     },
     "execution_count": 18,
     "metadata": {},
     "output_type": "execute_result"
    }
   ],
   "source": [
    "os_df[os_df['Quantity'] <0]['Quantity'].count()"
   ]
  },
  {
   "cell_type": "code",
   "execution_count": 19,
   "id": "9bc59a96-6d77-4b0b-80fd-5f97f13dcfde",
   "metadata": {},
   "outputs": [
    {
     "data": {
      "text/plain": [
       "0"
      ]
     },
     "execution_count": 19,
     "metadata": {},
     "output_type": "execute_result"
    }
   ],
   "source": [
    "os_df['Quantity'] = os_df['Quantity'].abs()\n",
    "os_df[os_df['Quantity'] <0]['Quantity'].count()"
   ]
  },
  {
   "cell_type": "markdown",
   "id": "313fe7ed-7325-410f-a9a2-c985c528bad0",
   "metadata": {},
   "source": [
    "***All negetive values has being removed***"
   ]
  },
  {
   "cell_type": "code",
   "execution_count": 21,
   "id": "1d10def9-1cbf-4b32-8382-22ec701416c1",
   "metadata": {},
   "outputs": [
    {
     "data": {
      "text/plain": [
       "0    37039.0\n",
       "1    19144.0\n",
       "2    50472.0\n",
       "3    96586.0\n",
       "4        NaN\n",
       "Name: CustomerID, dtype: float64"
      ]
     },
     "execution_count": 21,
     "metadata": {},
     "output_type": "execute_result"
    }
   ],
   "source": [
    "os_df['CustomerID'].head()"
   ]
  },
  {
   "cell_type": "code",
   "execution_count": 22,
   "id": "126b2295-a73b-4482-ba02-5ff3ad41d956",
   "metadata": {},
   "outputs": [],
   "source": [
    "os_df['CustomerID'] = os_df['CustomerID'].fillna('Unknown')"
   ]
  },
  {
   "cell_type": "code",
   "execution_count": 23,
   "id": "832eee9d-dba0-413b-bd2a-2852eaf0b42a",
   "metadata": {},
   "outputs": [],
   "source": [
    "os_df['CustomerID'] = os_df['CustomerID'].astype('str').str.rstrip('0').str.rstrip('.')"
   ]
  },
  {
   "cell_type": "code",
   "execution_count": 24,
   "id": "6902853b-6c03-40b9-836e-555cf9a802d5",
   "metadata": {},
   "outputs": [
    {
     "data": {
      "text/plain": [
       "0      37039\n",
       "1      19144\n",
       "2      50472\n",
       "3      96586\n",
       "4    Unknown\n",
       "Name: CustomerID, dtype: object"
      ]
     },
     "execution_count": 24,
     "metadata": {},
     "output_type": "execute_result"
    }
   ],
   "source": [
    "os_df['CustomerID'].head()"
   ]
  },
  {
   "cell_type": "code",
   "execution_count": 25,
   "id": "22a6a5a2-ffca-4600-beef-45503b4f6f66",
   "metadata": {},
   "outputs": [
    {
     "data": {
      "text/plain": [
       "0    Bank Transfer\n",
       "1          paypall\n",
       "2    Bank Transfer\n",
       "3          paypall\n",
       "4    Bank Transfer\n",
       "5      Credit Card\n",
       "Name: PaymentMethod, dtype: object"
      ]
     },
     "execution_count": 25,
     "metadata": {},
     "output_type": "execute_result"
    }
   ],
   "source": [
    "os_df['PaymentMethod'].head(6)"
   ]
  },
  {
   "cell_type": "code",
   "execution_count": 26,
   "id": "d1f3a7a9-5cb3-4e63-a4d7-de72c35870fd",
   "metadata": {},
   "outputs": [],
   "source": [
    "os_df['PaymentMethod'].replace('paypall' , 'Paypall', inplace = True) "
   ]
  },
  {
   "cell_type": "code",
   "execution_count": 27,
   "id": "726f6a90-de74-4ad2-a5af-e6c49948aa91",
   "metadata": {},
   "outputs": [],
   "source": [
    "os_df['ShippingCost'].fillna(17.49, inplace = True)"
   ]
  },
  {
   "cell_type": "code",
   "execution_count": 28,
   "id": "95bf72f9-171e-4e63-9257-ffe7ec3b8462",
   "metadata": {},
   "outputs": [
    {
     "data": {
      "text/plain": [
       "0    10.79\n",
       "1     9.51\n",
       "2    23.03\n",
       "3    11.08\n",
       "4    17.49\n",
       "Name: ShippingCost, dtype: float64"
      ]
     },
     "execution_count": 28,
     "metadata": {},
     "output_type": "execute_result"
    }
   ],
   "source": [
    "os_df['ShippingCost'].head()"
   ]
  },
  {
   "cell_type": "code",
   "execution_count": 29,
   "id": "3b36e61f-c7f7-4bc4-8a63-c909fd59aeca",
   "metadata": {},
   "outputs": [],
   "source": [
    "def fill_na_with_random_choice(column): \n",
    "    non_na_values = column.dropna().unique()\n",
    "    return column.apply( lambda x: np.random.choice(non_na_values) if pd.isna(x) else x)"
   ]
  },
  {
   "cell_type": "code",
   "execution_count": 30,
   "id": "f225cdd1-0548-403d-b049-6974293ea6ee",
   "metadata": {},
   "outputs": [],
   "source": [
    "os_df['WarehouseLocation']= fill_na_with_random_choice(os_df['WarehouseLocation'])"
   ]
  },
  {
   "cell_type": "code",
   "execution_count": 31,
   "id": "5e25839c-ded9-478f-a414-045595545d4c",
   "metadata": {},
   "outputs": [
    {
     "data": {
      "text/plain": [
       "0    London\n",
       "1      Rome\n",
       "2    Berlin\n",
       "3      Rome\n",
       "4      Rome\n",
       "Name: WarehouseLocation, dtype: object"
      ]
     },
     "execution_count": 31,
     "metadata": {},
     "output_type": "execute_result"
    }
   ],
   "source": [
    "os_df['WarehouseLocation'].head()"
   ]
  },
  {
   "cell_type": "code",
   "execution_count": 32,
   "id": "32203053-91d9-4543-b270-5565c97732a6",
   "metadata": {},
   "outputs": [
    {
     "data": {
      "text/plain": [
       "Category     Description   \n",
       "Accessories  Backpack          918\n",
       "             Blue Pen          884\n",
       "             Desk Lamp         892\n",
       "             Headphones        878\n",
       "             Notebook          924\n",
       "             Office Chair      919\n",
       "             T-shirt           873\n",
       "             USB Cable         898\n",
       "             Wall Clock        949\n",
       "             White Mug         940\n",
       "             Wireless Mouse    900\n",
       "Apparel      Backpack          875\n",
       "             Blue Pen          906\n",
       "             Desk Lamp         915\n",
       "             Headphones        926\n",
       "             Notebook          856\n",
       "             Office Chair      892\n",
       "             T-shirt           923\n",
       "             USB Cable         926\n",
       "             Wall Clock        915\n",
       "             White Mug         852\n",
       "             Wireless Mouse    878\n",
       "Electronics  Backpack          895\n",
       "             Blue Pen          899\n",
       "             Desk Lamp         918\n",
       "             Headphones        917\n",
       "             Notebook          871\n",
       "             Office Chair      871\n",
       "             T-shirt           888\n",
       "             USB Cable         958\n",
       "             Wall Clock        929\n",
       "             White Mug         901\n",
       "             Wireless Mouse    884\n",
       "Furniture    Backpack          973\n",
       "             Blue Pen          891\n",
       "             Desk Lamp         933\n",
       "             Headphones        934\n",
       "             Notebook          887\n",
       "             Office Chair      922\n",
       "             T-shirt           909\n",
       "             USB Cable         887\n",
       "             Wall Clock        886\n",
       "             White Mug         916\n",
       "             Wireless Mouse    946\n",
       "Stationery   Backpack          889\n",
       "             Blue Pen          929\n",
       "             Desk Lamp         887\n",
       "             Headphones        900\n",
       "             Notebook          916\n",
       "             Office Chair      918\n",
       "             T-shirt           873\n",
       "             USB Cable         911\n",
       "             Wall Clock        938\n",
       "             White Mug         927\n",
       "             Wireless Mouse    840\n",
       "dtype: int64"
      ]
     },
     "execution_count": 32,
     "metadata": {},
     "output_type": "execute_result"
    }
   ],
   "source": [
    "os_df.groupby(['Category','Description']).size()"
   ]
  },
  {
   "cell_type": "code",
   "execution_count": 33,
   "id": "447f9d4f-37f5-4866-b971-75eee7611455",
   "metadata": {},
   "outputs": [],
   "source": [
    "Category = { 'Blue Pen':'Stationery',\n",
    "           'Backpack':'Accessory',\n",
    "           'Desk Lamp': 'Accessory',\n",
    "           'USD Cable': 'Electronics',\n",
    "           'Wall Clock': 'Accessory',\n",
    "           'Wireless mouse':'Electronics',\n",
    "           'White Mug' : 'Accessory',\n",
    "           'Notebook' : 'Stationery',\n",
    "           'T-shirt' : 'Apparel',\n",
    "           'Office chair':'Furniture',\n",
    "           'Headphones' : 'Electronics'\n",
    "           }"
   ]
  },
  {
   "cell_type": "code",
   "execution_count": 34,
   "id": "eb9f8a47-1d88-4391-8b0c-dbe8dad9f235",
   "metadata": {},
   "outputs": [],
   "source": [
    "os_df.loc[:, 'Category'] = os_df['Description'].map(Category)"
   ]
  },
  {
   "cell_type": "code",
   "execution_count": 35,
   "id": "736e1f89-7345-4107-aa1f-95b4b27e8e9b",
   "metadata": {},
   "outputs": [
    {
     "data": {
      "text/plain": [
       "Category     Description\n",
       "Accessory    Backpack       4550\n",
       "             Desk Lamp      4545\n",
       "             Wall Clock     4617\n",
       "             White Mug      4536\n",
       "Apparel      T-shirt        4466\n",
       "Electronics  Headphones     4555\n",
       "Stationery   Blue Pen       4509\n",
       "             Notebook       4454\n",
       "dtype: int64"
      ]
     },
     "execution_count": 35,
     "metadata": {},
     "output_type": "execute_result"
    }
   ],
   "source": [
    "os_df.groupby(['Category','Description']).size()"
   ]
  },
  {
   "cell_type": "code",
   "execution_count": 36,
   "id": "3a7f6f0d-3a46-4a16-9d18-45ae07fe0185",
   "metadata": {},
   "outputs": [
    {
     "data": {
      "text/html": [
       "<div>\n",
       "<style scoped>\n",
       "    .dataframe tbody tr th:only-of-type {\n",
       "        vertical-align: middle;\n",
       "    }\n",
       "\n",
       "    .dataframe tbody tr th {\n",
       "        vertical-align: top;\n",
       "    }\n",
       "\n",
       "    .dataframe thead th {\n",
       "        text-align: right;\n",
       "    }\n",
       "</style>\n",
       "<table border=\"1\" class=\"dataframe\">\n",
       "  <thead>\n",
       "    <tr style=\"text-align: right;\">\n",
       "      <th></th>\n",
       "      <th>count</th>\n",
       "      <th>mean</th>\n",
       "      <th>std</th>\n",
       "      <th>min</th>\n",
       "      <th>25%</th>\n",
       "      <th>50%</th>\n",
       "      <th>75%</th>\n",
       "      <th>max</th>\n",
       "    </tr>\n",
       "  </thead>\n",
       "  <tbody>\n",
       "    <tr>\n",
       "      <th>InvoiceNo</th>\n",
       "      <td>49782.0</td>\n",
       "      <td>550681.239946</td>\n",
       "      <td>260703.009944</td>\n",
       "      <td>100005.0</td>\n",
       "      <td>324543.0000</td>\n",
       "      <td>552244.000</td>\n",
       "      <td>776364.00</td>\n",
       "      <td>999997.000000</td>\n",
       "    </tr>\n",
       "    <tr>\n",
       "      <th>Quantity</th>\n",
       "      <td>49782.0</td>\n",
       "      <td>24.925555</td>\n",
       "      <td>14.152125</td>\n",
       "      <td>1.0</td>\n",
       "      <td>13.0000</td>\n",
       "      <td>25.000</td>\n",
       "      <td>37.00</td>\n",
       "      <td>50.000000</td>\n",
       "    </tr>\n",
       "    <tr>\n",
       "      <th>UnitPrice</th>\n",
       "      <td>49782.0</td>\n",
       "      <td>50.625031</td>\n",
       "      <td>28.597658</td>\n",
       "      <td>1.0</td>\n",
       "      <td>25.8625</td>\n",
       "      <td>50.555</td>\n",
       "      <td>75.37</td>\n",
       "      <td>100.000000</td>\n",
       "    </tr>\n",
       "    <tr>\n",
       "      <th>Discount</th>\n",
       "      <td>49782.0</td>\n",
       "      <td>0.275748</td>\n",
       "      <td>0.230077</td>\n",
       "      <td>0.0</td>\n",
       "      <td>0.1300</td>\n",
       "      <td>0.260</td>\n",
       "      <td>0.38</td>\n",
       "      <td>1.999764</td>\n",
       "    </tr>\n",
       "    <tr>\n",
       "      <th>ShippingCost</th>\n",
       "      <td>49782.0</td>\n",
       "      <td>17.494303</td>\n",
       "      <td>7.037732</td>\n",
       "      <td>5.0</td>\n",
       "      <td>11.5400</td>\n",
       "      <td>17.490</td>\n",
       "      <td>23.41</td>\n",
       "      <td>30.000000</td>\n",
       "    </tr>\n",
       "  </tbody>\n",
       "</table>\n",
       "</div>"
      ],
      "text/plain": [
       "                count           mean            std       min          25%  \\\n",
       "InvoiceNo     49782.0  550681.239946  260703.009944  100005.0  324543.0000   \n",
       "Quantity      49782.0      24.925555      14.152125       1.0      13.0000   \n",
       "UnitPrice     49782.0      50.625031      28.597658       1.0      25.8625   \n",
       "Discount      49782.0       0.275748       0.230077       0.0       0.1300   \n",
       "ShippingCost  49782.0      17.494303       7.037732       5.0      11.5400   \n",
       "\n",
       "                     50%        75%            max  \n",
       "InvoiceNo     552244.000  776364.00  999997.000000  \n",
       "Quantity          25.000      37.00      50.000000  \n",
       "UnitPrice         50.555      75.37     100.000000  \n",
       "Discount           0.260       0.38       1.999764  \n",
       "ShippingCost      17.490      23.41      30.000000  "
      ]
     },
     "execution_count": 36,
     "metadata": {},
     "output_type": "execute_result"
    }
   ],
   "source": [
    "os_df.describe().T"
   ]
  },
  {
   "cell_type": "code",
   "execution_count": 37,
   "id": "1821a3d5-0316-4974-ba43-c301364cb0cb",
   "metadata": {},
   "outputs": [],
   "source": [
    "os_df['InvoiceDate'] = pd.to_datetime(os_df['InvoiceDate'])"
   ]
  },
  {
   "cell_type": "code",
   "execution_count": 38,
   "id": "2aeee33d-6de5-4229-b266-ffd9042ac353",
   "metadata": {},
   "outputs": [
    {
     "name": "stdout",
     "output_type": "stream",
     "text": [
      "<class 'pandas.core.frame.DataFrame'>\n",
      "RangeIndex: 49782 entries, 0 to 49781\n",
      "Data columns (total 17 columns):\n",
      " #   Column             Non-Null Count  Dtype         \n",
      "---  ------             --------------  -----         \n",
      " 0   InvoiceNo          49782 non-null  int64         \n",
      " 1   StockCode          49782 non-null  object        \n",
      " 2   Description        49782 non-null  object        \n",
      " 3   Quantity           49782 non-null  int64         \n",
      " 4   InvoiceDate        49782 non-null  datetime64[ns]\n",
      " 5   UnitPrice          49782 non-null  float64       \n",
      " 6   CustomerID         49782 non-null  object        \n",
      " 7   Country            49782 non-null  object        \n",
      " 8   Discount           49782 non-null  float64       \n",
      " 9   PaymentMethod      49782 non-null  object        \n",
      " 10  ShippingCost       49782 non-null  float64       \n",
      " 11  Category           36232 non-null  object        \n",
      " 12  SalesChannel       49782 non-null  object        \n",
      " 13  ReturnStatus       49782 non-null  object        \n",
      " 14  ShipmentProvider   49782 non-null  object        \n",
      " 15  WarehouseLocation  49782 non-null  object        \n",
      " 16  OrderPriority      49782 non-null  object        \n",
      "dtypes: datetime64[ns](1), float64(3), int64(2), object(11)\n",
      "memory usage: 6.5+ MB\n"
     ]
    }
   ],
   "source": [
    "os_df.info()"
   ]
  },
  {
   "cell_type": "code",
   "execution_count": 39,
   "id": "2d93a999-541b-436f-8357-5add096f919f",
   "metadata": {},
   "outputs": [],
   "source": [
    "os_df['InvoiceYear'] = os_df['InvoiceDate'].dt.year\n",
    "os_df['InvoiceMonth'] = os_df['InvoiceDate'].dt.month\n",
    "os_df['InvoiceDay'] = os_df['InvoiceDate'].dt.day\n",
    "os_df['InvoiceTime'] = os_df['InvoiceDate'].dt.time"
   ]
  },
  {
   "cell_type": "code",
   "execution_count": 40,
   "id": "7e60b056-3a19-49bb-8474-b032187a025a",
   "metadata": {},
   "outputs": [],
   "source": [
    "os_df= os_df.drop('InvoiceDate', axis= 1)"
   ]
  },
  {
   "cell_type": "code",
   "execution_count": 41,
   "id": "83ebafa1-66ed-46a0-8e92-b758093e1832",
   "metadata": {},
   "outputs": [],
   "source": [
    "os_df['Discount'] = os_df['Discount'].round(2)"
   ]
  },
  {
   "cell_type": "code",
   "execution_count": 42,
   "id": "94ea3d28-eabf-41b6-88b0-68f2acffd176",
   "metadata": {},
   "outputs": [
    {
     "data": {
      "text/plain": [
       "0    0.47\n",
       "1    0.19\n",
       "2    0.35\n",
       "3    0.14\n",
       "4    1.50\n",
       "Name: Discount, dtype: float64"
      ]
     },
     "execution_count": 42,
     "metadata": {},
     "output_type": "execute_result"
    }
   ],
   "source": [
    "os_df['Discount'].head()"
   ]
  },
  {
   "cell_type": "code",
   "execution_count": 43,
   "id": "1a4a7f08-03b4-4433-9410-839e0359d310",
   "metadata": {},
   "outputs": [
    {
     "data": {
      "text/html": [
       "<div>\n",
       "<style scoped>\n",
       "    .dataframe tbody tr th:only-of-type {\n",
       "        vertical-align: middle;\n",
       "    }\n",
       "\n",
       "    .dataframe tbody tr th {\n",
       "        vertical-align: top;\n",
       "    }\n",
       "\n",
       "    .dataframe thead th {\n",
       "        text-align: right;\n",
       "    }\n",
       "</style>\n",
       "<table border=\"1\" class=\"dataframe\">\n",
       "  <thead>\n",
       "    <tr style=\"text-align: right;\">\n",
       "      <th></th>\n",
       "      <th>InvoiceNo</th>\n",
       "      <th>StockCode</th>\n",
       "      <th>Description</th>\n",
       "      <th>Quantity</th>\n",
       "      <th>UnitPrice</th>\n",
       "      <th>CustomerID</th>\n",
       "      <th>Country</th>\n",
       "      <th>Discount</th>\n",
       "      <th>PaymentMethod</th>\n",
       "      <th>ShippingCost</th>\n",
       "      <th>Category</th>\n",
       "      <th>SalesChannel</th>\n",
       "      <th>ReturnStatus</th>\n",
       "      <th>ShipmentProvider</th>\n",
       "      <th>WarehouseLocation</th>\n",
       "      <th>OrderPriority</th>\n",
       "      <th>InvoiceYear</th>\n",
       "      <th>InvoiceMonth</th>\n",
       "      <th>InvoiceDay</th>\n",
       "      <th>InvoiceTime</th>\n",
       "    </tr>\n",
       "  </thead>\n",
       "  <tbody>\n",
       "    <tr>\n",
       "      <th>0</th>\n",
       "      <td>221958</td>\n",
       "      <td>SKU_1964</td>\n",
       "      <td>White Mug</td>\n",
       "      <td>38</td>\n",
       "      <td>1.71</td>\n",
       "      <td>37039</td>\n",
       "      <td>Australia</td>\n",
       "      <td>0.47</td>\n",
       "      <td>Bank Transfer</td>\n",
       "      <td>10.79</td>\n",
       "      <td>Accessory</td>\n",
       "      <td>In-store</td>\n",
       "      <td>Not Returned</td>\n",
       "      <td>UPS</td>\n",
       "      <td>London</td>\n",
       "      <td>Medium</td>\n",
       "      <td>2020</td>\n",
       "      <td>1</td>\n",
       "      <td>1</td>\n",
       "      <td>00:00:00</td>\n",
       "    </tr>\n",
       "    <tr>\n",
       "      <th>1</th>\n",
       "      <td>771155</td>\n",
       "      <td>SKU_1241</td>\n",
       "      <td>White Mug</td>\n",
       "      <td>18</td>\n",
       "      <td>41.25</td>\n",
       "      <td>19144</td>\n",
       "      <td>Spain</td>\n",
       "      <td>0.19</td>\n",
       "      <td>Paypall</td>\n",
       "      <td>9.51</td>\n",
       "      <td>Accessory</td>\n",
       "      <td>Online</td>\n",
       "      <td>Not Returned</td>\n",
       "      <td>UPS</td>\n",
       "      <td>Rome</td>\n",
       "      <td>Medium</td>\n",
       "      <td>2020</td>\n",
       "      <td>1</td>\n",
       "      <td>1</td>\n",
       "      <td>01:00:00</td>\n",
       "    </tr>\n",
       "    <tr>\n",
       "      <th>2</th>\n",
       "      <td>231932</td>\n",
       "      <td>SKU_1501</td>\n",
       "      <td>Headphones</td>\n",
       "      <td>49</td>\n",
       "      <td>29.11</td>\n",
       "      <td>50472</td>\n",
       "      <td>Germany</td>\n",
       "      <td>0.35</td>\n",
       "      <td>Bank Transfer</td>\n",
       "      <td>23.03</td>\n",
       "      <td>Electronics</td>\n",
       "      <td>Online</td>\n",
       "      <td>Returned</td>\n",
       "      <td>UPS</td>\n",
       "      <td>Berlin</td>\n",
       "      <td>High</td>\n",
       "      <td>2020</td>\n",
       "      <td>1</td>\n",
       "      <td>1</td>\n",
       "      <td>02:00:00</td>\n",
       "    </tr>\n",
       "    <tr>\n",
       "      <th>3</th>\n",
       "      <td>465838</td>\n",
       "      <td>SKU_1760</td>\n",
       "      <td>Desk Lamp</td>\n",
       "      <td>14</td>\n",
       "      <td>76.68</td>\n",
       "      <td>96586</td>\n",
       "      <td>Netherlands</td>\n",
       "      <td>0.14</td>\n",
       "      <td>Paypall</td>\n",
       "      <td>11.08</td>\n",
       "      <td>Accessory</td>\n",
       "      <td>Online</td>\n",
       "      <td>Not Returned</td>\n",
       "      <td>Royal Mail</td>\n",
       "      <td>Rome</td>\n",
       "      <td>Low</td>\n",
       "      <td>2020</td>\n",
       "      <td>1</td>\n",
       "      <td>1</td>\n",
       "      <td>03:00:00</td>\n",
       "    </tr>\n",
       "    <tr>\n",
       "      <th>4</th>\n",
       "      <td>359178</td>\n",
       "      <td>SKU_1386</td>\n",
       "      <td>USB Cable</td>\n",
       "      <td>30</td>\n",
       "      <td>68.11</td>\n",
       "      <td>Unknown</td>\n",
       "      <td>United Kingdom</td>\n",
       "      <td>1.50</td>\n",
       "      <td>Bank Transfer</td>\n",
       "      <td>17.49</td>\n",
       "      <td>NaN</td>\n",
       "      <td>In-store</td>\n",
       "      <td>Not Returned</td>\n",
       "      <td>FedEx</td>\n",
       "      <td>Rome</td>\n",
       "      <td>Medium</td>\n",
       "      <td>2020</td>\n",
       "      <td>1</td>\n",
       "      <td>1</td>\n",
       "      <td>04:00:00</td>\n",
       "    </tr>\n",
       "    <tr>\n",
       "      <th>5</th>\n",
       "      <td>744167</td>\n",
       "      <td>SKU_1006</td>\n",
       "      <td>Office Chair</td>\n",
       "      <td>47</td>\n",
       "      <td>70.16</td>\n",
       "      <td>53887</td>\n",
       "      <td>Sweden</td>\n",
       "      <td>0.48</td>\n",
       "      <td>Credit Card</td>\n",
       "      <td>13.98</td>\n",
       "      <td>NaN</td>\n",
       "      <td>Online</td>\n",
       "      <td>Not Returned</td>\n",
       "      <td>DHL</td>\n",
       "      <td>London</td>\n",
       "      <td>Medium</td>\n",
       "      <td>2020</td>\n",
       "      <td>1</td>\n",
       "      <td>1</td>\n",
       "      <td>05:00:00</td>\n",
       "    </tr>\n",
       "    <tr>\n",
       "      <th>6</th>\n",
       "      <td>210268</td>\n",
       "      <td>SKU_1087</td>\n",
       "      <td>USB Cable</td>\n",
       "      <td>25</td>\n",
       "      <td>85.74</td>\n",
       "      <td>46567</td>\n",
       "      <td>Belgium</td>\n",
       "      <td>0.15</td>\n",
       "      <td>Bank Transfer</td>\n",
       "      <td>12.92</td>\n",
       "      <td>NaN</td>\n",
       "      <td>Online</td>\n",
       "      <td>Not Returned</td>\n",
       "      <td>FedEx</td>\n",
       "      <td>Amsterdam</td>\n",
       "      <td>High</td>\n",
       "      <td>2020</td>\n",
       "      <td>1</td>\n",
       "      <td>1</td>\n",
       "      <td>06:00:00</td>\n",
       "    </tr>\n",
       "  </tbody>\n",
       "</table>\n",
       "</div>"
      ],
      "text/plain": [
       "   InvoiceNo StockCode   Description  Quantity  UnitPrice CustomerID  \\\n",
       "0     221958  SKU_1964     White Mug        38       1.71      37039   \n",
       "1     771155  SKU_1241     White Mug        18      41.25      19144   \n",
       "2     231932  SKU_1501    Headphones        49      29.11      50472   \n",
       "3     465838  SKU_1760     Desk Lamp        14      76.68      96586   \n",
       "4     359178  SKU_1386     USB Cable        30      68.11    Unknown   \n",
       "5     744167  SKU_1006  Office Chair        47      70.16      53887   \n",
       "6     210268  SKU_1087     USB Cable        25      85.74      46567   \n",
       "\n",
       "          Country  Discount  PaymentMethod  ShippingCost     Category  \\\n",
       "0       Australia      0.47  Bank Transfer         10.79    Accessory   \n",
       "1           Spain      0.19        Paypall          9.51    Accessory   \n",
       "2         Germany      0.35  Bank Transfer         23.03  Electronics   \n",
       "3     Netherlands      0.14        Paypall         11.08    Accessory   \n",
       "4  United Kingdom      1.50  Bank Transfer         17.49          NaN   \n",
       "5          Sweden      0.48    Credit Card         13.98          NaN   \n",
       "6         Belgium      0.15  Bank Transfer         12.92          NaN   \n",
       "\n",
       "  SalesChannel  ReturnStatus ShipmentProvider WarehouseLocation OrderPriority  \\\n",
       "0     In-store  Not Returned              UPS            London        Medium   \n",
       "1       Online  Not Returned              UPS              Rome        Medium   \n",
       "2       Online      Returned              UPS            Berlin          High   \n",
       "3       Online  Not Returned       Royal Mail              Rome           Low   \n",
       "4     In-store  Not Returned            FedEx              Rome        Medium   \n",
       "5       Online  Not Returned              DHL            London        Medium   \n",
       "6       Online  Not Returned            FedEx         Amsterdam          High   \n",
       "\n",
       "   InvoiceYear  InvoiceMonth  InvoiceDay InvoiceTime  \n",
       "0         2020             1           1    00:00:00  \n",
       "1         2020             1           1    01:00:00  \n",
       "2         2020             1           1    02:00:00  \n",
       "3         2020             1           1    03:00:00  \n",
       "4         2020             1           1    04:00:00  \n",
       "5         2020             1           1    05:00:00  \n",
       "6         2020             1           1    06:00:00  "
      ]
     },
     "execution_count": 43,
     "metadata": {},
     "output_type": "execute_result"
    }
   ],
   "source": [
    "os_df.head(7)"
   ]
  },
  {
   "cell_type": "code",
   "execution_count": 44,
   "id": "5cc4630c-2592-44a6-9311-7cc59d3b184c",
   "metadata": {},
   "outputs": [
    {
     "data": {
      "image/png": "[encoded data removed]",
      "text/plain": [
       "<Figure size 600x400 with 1 Axes>"
      ]
     },
     "metadata": {},
     "output_type": "display_data"
    },
    {
     "data": {
      "image/png": "[encoded data removed]",
      "text/plain": [
       "<Figure size 600x400 with 1 Axes>"
      ]
     },
     "metadata": {},
     "output_type": "display_data"
    },
    {
     "data": {
      "image/png": "[encoded data removed]",
      "text/plain": [
       "<Figure size 600x400 with 1 Axes>"
      ]
     },
     "metadata": {},
     "output_type": "display_data"
    },
    {
     "data": {
      "image/png": "[encoded data removed]",
      "text/plain": [
       "<Figure size 600x400 with 1 Axes>"
      ]
     },
     "metadata": {},
     "output_type": "display_data"
    }
   ],
   "source": [
    "sb.boxplot(x=os_df['Quantity'])\n",
    "plt.show()\n",
    "\n",
    "sb.boxplot(x=os_df['UnitPrice'])\n",
    "plt.show()\n",
    "\n",
    "sb.boxplot(x=os_df['Discount'])\n",
    "plt.show()\n",
    "\n",
    "sb.boxplot(x=os_df['ShippingCost'])\n",
    "plt.show()\n"
   ]
  },
  {
   "cell_type": "code",
   "execution_count": 45,
   "id": "c0ac0c5e-d733-446e-9270-461642100059",
   "metadata": {},
   "outputs": [
    {
     "data": {
      "text/plain": [
       "996"
      ]
     },
     "execution_count": 45,
     "metadata": {},
     "output_type": "execute_result"
    }
   ],
   "source": [
    "Q1 = os_df['Discount'].quantile(0.25)\n",
    "Q3 = os_df['Discount'].quantile(0.75)\n",
    "upper_bounds = Q3 + 1.5 *(Q3 - Q1)\n",
    "lower_bounds = Q1 - 1.5 *(Q3 -Q1)\n",
    "\n",
    "((os_df['Discount'] > upper_bounds) | (os_df['Discount']<lower_bounds)).sum()"
   ]
  },
  {
   "cell_type": "code",
   "execution_count": 46,
   "id": "0c471d23-0474-4937-8b82-3b86777ad164",
   "metadata": {},
   "outputs": [
    {
     "name": "stdout",
     "output_type": "stream",
     "text": [
      "Q1=0.13,Q3=0.38\n"
     ]
    }
   ],
   "source": [
    "Q1 = os_df['Discount'].quantile(0.25)\n",
    "Q3 = os_df['Discount'].quantile(0.75)\n",
    "print(f'Q1={Q1},Q3={Q3}')"
   ]
  },
  {
   "cell_type": "code",
   "execution_count": 47,
   "id": "d417bf7e-432e-435e-8969-83a0c00f2c8b",
   "metadata": {},
   "outputs": [
    {
     "name": "stdout",
     "output_type": "stream",
     "text": [
      "0.755 -0.245\n"
     ]
    }
   ],
   "source": [
    "upper_bounds = Q3 + 1.5 *(Q3 - Q1)\n",
    "lower_bounds = Q1 - 1.5 *(Q3 -Q1)\n",
    "print(upper_bounds,lower_bounds)"
   ]
  },
  {
   "cell_type": "code",
   "execution_count": 48,
   "id": "c09ad6bd-9d82-4f46-addb-7e3ae948f703",
   "metadata": {},
   "outputs": [],
   "source": [
    "os_df = os_df[os_df['Discount'] <= 0.775]"
   ]
  },
  {
   "cell_type": "code",
   "execution_count": 49,
   "id": "46e7a1c9-0a5e-49f7-8584-1323d46b9aea",
   "metadata": {},
   "outputs": [
    {
     "data": {
      "image/png": "[encoded data removed]",
      "text/plain": [
       "<Figure size 600x400 with 1 Axes>"
      ]
     },
     "metadata": {},
     "output_type": "display_data"
    }
   ],
   "source": [
    "sb.boxplot(x=os_df['Discount'])\n",
    "plt.show()"
   ]
  },
  {
   "cell_type": "code",
   "execution_count": 50,
   "id": "423c0baa-73a2-4e31-b623-dc2f73c71069",
   "metadata": {},
   "outputs": [],
   "source": [
    "os_df.loc[:, 'TotalCost'] = ((os_df['Quantity']* os_df['UnitPrice']) - ((os_df['Quantity'] * os_df['UnitPrice']\n",
    "                                                               * os_df['Discount']) + os_df['ShippingCost'])).round(2)"
   ]
  },
  {
   "cell_type": "code",
   "execution_count": 51,
   "id": "1e794bf2-3a81-42c5-8504-c1ac59bd9033",
   "metadata": {},
   "outputs": [
    {
     "data": {
      "text/html": [
       "<div>\n",
       "<style scoped>\n",
       "    .dataframe tbody tr th:only-of-type {\n",
       "        vertical-align: middle;\n",
       "    }\n",
       "\n",
       "    .dataframe tbody tr th {\n",
       "        vertical-align: top;\n",
       "    }\n",
       "\n",
       "    .dataframe thead th {\n",
       "        text-align: right;\n",
       "    }\n",
       "</style>\n",
       "<table border=\"1\" class=\"dataframe\">\n",
       "  <thead>\n",
       "    <tr style=\"text-align: right;\">\n",
       "      <th></th>\n",
       "      <th>InvoiceNo</th>\n",
       "      <th>StockCode</th>\n",
       "      <th>Description</th>\n",
       "      <th>Quantity</th>\n",
       "      <th>UnitPrice</th>\n",
       "      <th>CustomerID</th>\n",
       "      <th>Country</th>\n",
       "      <th>Discount</th>\n",
       "      <th>PaymentMethod</th>\n",
       "      <th>ShippingCost</th>\n",
       "      <th>Category</th>\n",
       "      <th>SalesChannel</th>\n",
       "      <th>ReturnStatus</th>\n",
       "      <th>ShipmentProvider</th>\n",
       "      <th>WarehouseLocation</th>\n",
       "      <th>OrderPriority</th>\n",
       "      <th>InvoiceYear</th>\n",
       "      <th>InvoiceMonth</th>\n",
       "      <th>InvoiceDay</th>\n",
       "      <th>InvoiceTime</th>\n",
       "      <th>TotalCost</th>\n",
       "    </tr>\n",
       "  </thead>\n",
       "  <tbody>\n",
       "    <tr>\n",
       "      <th>22987</th>\n",
       "      <td>640735</td>\n",
       "      <td>SKU_1127</td>\n",
       "      <td>Blue Pen</td>\n",
       "      <td>49</td>\n",
       "      <td>65.37</td>\n",
       "      <td>37597</td>\n",
       "      <td>Netherlands</td>\n",
       "      <td>0.26</td>\n",
       "      <td>Bank Transfer</td>\n",
       "      <td>21.32</td>\n",
       "      <td>Stationery</td>\n",
       "      <td>In-store</td>\n",
       "      <td>Not Returned</td>\n",
       "      <td>UPS</td>\n",
       "      <td>Rome</td>\n",
       "      <td>Medium</td>\n",
       "      <td>2022</td>\n",
       "      <td>8</td>\n",
       "      <td>15</td>\n",
       "      <td>19:00:00</td>\n",
       "      <td>2349.00</td>\n",
       "    </tr>\n",
       "    <tr>\n",
       "      <th>38311</th>\n",
       "      <td>256226</td>\n",
       "      <td>SKU_1769</td>\n",
       "      <td>Desk Lamp</td>\n",
       "      <td>29</td>\n",
       "      <td>92.48</td>\n",
       "      <td>40320</td>\n",
       "      <td>Norway</td>\n",
       "      <td>0.02</td>\n",
       "      <td>Paypall</td>\n",
       "      <td>25.86</td>\n",
       "      <td>Accessory</td>\n",
       "      <td>Online</td>\n",
       "      <td>Not Returned</td>\n",
       "      <td>Royal Mail</td>\n",
       "      <td>Amsterdam</td>\n",
       "      <td>Low</td>\n",
       "      <td>2024</td>\n",
       "      <td>5</td>\n",
       "      <td>15</td>\n",
       "      <td>07:00:00</td>\n",
       "      <td>2602.42</td>\n",
       "    </tr>\n",
       "    <tr>\n",
       "      <th>1286</th>\n",
       "      <td>202974</td>\n",
       "      <td>SKU_1766</td>\n",
       "      <td>Desk Lamp</td>\n",
       "      <td>22</td>\n",
       "      <td>16.08</td>\n",
       "      <td>95758</td>\n",
       "      <td>Portugal</td>\n",
       "      <td>0.46</td>\n",
       "      <td>Bank Transfer</td>\n",
       "      <td>16.42</td>\n",
       "      <td>Accessory</td>\n",
       "      <td>Online</td>\n",
       "      <td>Not Returned</td>\n",
       "      <td>Royal Mail</td>\n",
       "      <td>Rome</td>\n",
       "      <td>Low</td>\n",
       "      <td>2020</td>\n",
       "      <td>2</td>\n",
       "      <td>23</td>\n",
       "      <td>14:00:00</td>\n",
       "      <td>174.61</td>\n",
       "    </tr>\n",
       "  </tbody>\n",
       "</table>\n",
       "</div>"
      ],
      "text/plain": [
       "       InvoiceNo StockCode Description  Quantity  UnitPrice CustomerID  \\\n",
       "22987     640735  SKU_1127    Blue Pen        49      65.37      37597   \n",
       "38311     256226  SKU_1769   Desk Lamp        29      92.48      40320   \n",
       "1286      202974  SKU_1766   Desk Lamp        22      16.08      95758   \n",
       "\n",
       "           Country  Discount  PaymentMethod  ShippingCost    Category  \\\n",
       "22987  Netherlands      0.26  Bank Transfer         21.32  Stationery   \n",
       "38311       Norway      0.02        Paypall         25.86   Accessory   \n",
       "1286      Portugal      0.46  Bank Transfer         16.42   Accessory   \n",
       "\n",
       "      SalesChannel  ReturnStatus ShipmentProvider WarehouseLocation  \\\n",
       "22987     In-store  Not Returned              UPS              Rome   \n",
       "38311       Online  Not Returned       Royal Mail         Amsterdam   \n",
       "1286        Online  Not Returned       Royal Mail              Rome   \n",
       "\n",
       "      OrderPriority  InvoiceYear  InvoiceMonth  InvoiceDay InvoiceTime  \\\n",
       "22987        Medium         2022             8          15    19:00:00   \n",
       "38311           Low         2024             5          15    07:00:00   \n",
       "1286            Low         2020             2          23    14:00:00   \n",
       "\n",
       "       TotalCost  \n",
       "22987    2349.00  \n",
       "38311    2602.42  \n",
       "1286      174.61  "
      ]
     },
     "execution_count": 51,
     "metadata": {},
     "output_type": "execute_result"
    }
   ],
   "source": [
    "os_df.sample(3)"
   ]
  },
  {
   "cell_type": "code",
   "execution_count": 52,
   "id": "33136310-abae-48c4-8ec5-abe380a1847c",
   "metadata": {},
   "outputs": [],
   "source": [
    "#Saving the clean and transform date to a new file \n",
    "\n",
    "os_df.to_csv('online_sales_clean_data.csv')"
   ]
  },
  {
   "cell_type": "markdown",
   "id": "909f9277-9dfe-43b2-a9c3-78ac74599780",
   "metadata": {},
   "source": [
    "# Data Visualization"
   ]
  },
  {
   "cell_type": "code",
   "execution_count": 54,
   "id": "c19e3200-ccb3-4999-b1ef-8b4418432ebf",
   "metadata": {},
   "outputs": [
    {
     "data": {
      "text/html": [
       "<div>\n",
       "<style scoped>\n",
       "    .dataframe tbody tr th:only-of-type {\n",
       "        vertical-align: middle;\n",
       "    }\n",
       "\n",
       "    .dataframe tbody tr th {\n",
       "        vertical-align: top;\n",
       "    }\n",
       "\n",
       "    .dataframe thead th {\n",
       "        text-align: right;\n",
       "    }\n",
       "</style>\n",
       "<table border=\"1\" class=\"dataframe\">\n",
       "  <thead>\n",
       "    <tr style=\"text-align: right;\">\n",
       "      <th></th>\n",
       "      <th>InvoiceYear</th>\n",
       "      <th>TotalCost</th>\n",
       "    </tr>\n",
       "  </thead>\n",
       "  <tbody>\n",
       "    <tr>\n",
       "      <th>0</th>\n",
       "      <td>2024</td>\n",
       "      <td>8054387.26</td>\n",
       "    </tr>\n",
       "    <tr>\n",
       "      <th>1</th>\n",
       "      <td>2020</td>\n",
       "      <td>7960721.22</td>\n",
       "    </tr>\n",
       "    <tr>\n",
       "      <th>2</th>\n",
       "      <td>2021</td>\n",
       "      <td>7949460.23</td>\n",
       "    </tr>\n",
       "    <tr>\n",
       "      <th>3</th>\n",
       "      <td>2023</td>\n",
       "      <td>7930474.56</td>\n",
       "    </tr>\n",
       "    <tr>\n",
       "      <th>4</th>\n",
       "      <td>2022</td>\n",
       "      <td>7893356.71</td>\n",
       "    </tr>\n",
       "    <tr>\n",
       "      <th>5</th>\n",
       "      <td>2025</td>\n",
       "      <td>5444531.16</td>\n",
       "    </tr>\n",
       "  </tbody>\n",
       "</table>\n",
       "</div>"
      ],
      "text/plain": [
       "   InvoiceYear   TotalCost\n",
       "0         2024  8054387.26\n",
       "1         2020  7960721.22\n",
       "2         2021  7949460.23\n",
       "3         2023  7930474.56\n",
       "4         2022  7893356.71\n",
       "5         2025  5444531.16"
      ]
     },
     "execution_count": 54,
     "metadata": {},
     "output_type": "execute_result"
    }
   ],
   "source": [
    "Total_cost_by_Year = os_df.groupby('InvoiceYear')[['TotalCost']].sum().sort_values('TotalCost', ascending= False).reset_index() \n",
    "Total_cost_by_Year"
   ]
  },
  {
   "cell_type": "code",
   "execution_count": 55,
   "id": "51e4a8c9-e7eb-41f8-bc2a-b4eadb05d159",
   "metadata": {},
   "outputs": [
    {
     "data": {
      "text/html": [
       "<div>\n",
       "<style scoped>\n",
       "    .dataframe tbody tr th:only-of-type {\n",
       "        vertical-align: middle;\n",
       "    }\n",
       "\n",
       "    .dataframe tbody tr th {\n",
       "        vertical-align: top;\n",
       "    }\n",
       "\n",
       "    .dataframe thead th {\n",
       "        text-align: right;\n",
       "    }\n",
       "</style>\n",
       "<table border=\"1\" class=\"dataframe\">\n",
       "  <thead>\n",
       "    <tr style=\"text-align: right;\">\n",
       "      <th></th>\n",
       "      <th>Country</th>\n",
       "      <th>TotalCost</th>\n",
       "    </tr>\n",
       "  </thead>\n",
       "  <tbody>\n",
       "    <tr>\n",
       "      <th>0</th>\n",
       "      <td>Belgium</td>\n",
       "      <td>3896513.85</td>\n",
       "    </tr>\n",
       "    <tr>\n",
       "      <th>1</th>\n",
       "      <td>United Kingdom</td>\n",
       "      <td>3842721.68</td>\n",
       "    </tr>\n",
       "    <tr>\n",
       "      <th>2</th>\n",
       "      <td>Sweden</td>\n",
       "      <td>3842573.09</td>\n",
       "    </tr>\n",
       "    <tr>\n",
       "      <th>3</th>\n",
       "      <td>United States</td>\n",
       "      <td>3819655.93</td>\n",
       "    </tr>\n",
       "    <tr>\n",
       "      <th>4</th>\n",
       "      <td>Germany</td>\n",
       "      <td>3805314.46</td>\n",
       "    </tr>\n",
       "    <tr>\n",
       "      <th>5</th>\n",
       "      <td>France</td>\n",
       "      <td>3774378.78</td>\n",
       "    </tr>\n",
       "    <tr>\n",
       "      <th>6</th>\n",
       "      <td>Portugal</td>\n",
       "      <td>3760578.68</td>\n",
       "    </tr>\n",
       "    <tr>\n",
       "      <th>7</th>\n",
       "      <td>Spain</td>\n",
       "      <td>3735761.86</td>\n",
       "    </tr>\n",
       "    <tr>\n",
       "      <th>8</th>\n",
       "      <td>Norway</td>\n",
       "      <td>3734124.28</td>\n",
       "    </tr>\n",
       "    <tr>\n",
       "      <th>9</th>\n",
       "      <td>Italy</td>\n",
       "      <td>3713580.54</td>\n",
       "    </tr>\n",
       "    <tr>\n",
       "      <th>10</th>\n",
       "      <td>Australia</td>\n",
       "      <td>3683140.53</td>\n",
       "    </tr>\n",
       "    <tr>\n",
       "      <th>11</th>\n",
       "      <td>Netherlands</td>\n",
       "      <td>3624587.46</td>\n",
       "    </tr>\n",
       "  </tbody>\n",
       "</table>\n",
       "</div>"
      ],
      "text/plain": [
       "           Country   TotalCost\n",
       "0          Belgium  3896513.85\n",
       "1   United Kingdom  3842721.68\n",
       "2           Sweden  3842573.09\n",
       "3    United States  3819655.93\n",
       "4          Germany  3805314.46\n",
       "5           France  3774378.78\n",
       "6         Portugal  3760578.68\n",
       "7            Spain  3735761.86\n",
       "8           Norway  3734124.28\n",
       "9            Italy  3713580.54\n",
       "10       Australia  3683140.53\n",
       "11     Netherlands  3624587.46"
      ]
     },
     "execution_count": 55,
     "metadata": {},
     "output_type": "execute_result"
    }
   ],
   "source": [
    "Total_cost_by_Country = os_df.groupby('Country')[['TotalCost']].sum().sort_values('TotalCost',ascending = False).reset_index()\n",
    "Total_cost_by_Country"
   ]
  },
  {
   "cell_type": "code",
   "execution_count": 56,
   "id": "4442480f-8548-4e4e-beaa-9abf5d6b8579",
   "metadata": {},
   "outputs": [
    {
     "data": {
      "image/png": "[encoded data removed]",
      "text/plain": [
       "<Figure size 1000x600 with 1 Axes>"
      ]
     },
     "metadata": {},
     "output_type": "display_data"
    }
   ],
   "source": [
    "Top_5_Total_cost_by_Country = Total_cost_by_Country.head(5)\n",
    "colors = plt.cm.Greens(np.linspace(0.3, 1, len(Total_cost_by_Country)))\n",
    "max_cost = Top_5_Total_cost_by_Country['TotalCost'].max() \n",
    "widths = Top_5_Total_cost_by_Country['TotalCost'] / max_cost * 0.8 \n",
    "plt.figure(figsize=(10, 6))\n",
    "bars = plt.bar(Top_5_Total_cost_by_Country['Country'], Top_5_Total_cost_by_Country['TotalCost'], color=colors)\n",
    "\n",
    "for bar, width in zip(bars, widths):\n",
    "    bar.set_linewidth(width)\n",
    "\n",
    "plt.xlabel('Country') \n",
    "plt.ylabel('Total Cost')\n",
    "plt.title('Top 5 Total Cost by Country') \n",
    "plt.show()"
   ]
  },
  {
   "cell_type": "code",
   "execution_count": 57,
   "id": "e0b2df21-0804-4263-8fe3-e50508723411",
   "metadata": {},
   "outputs": [
    {
     "data": {
      "text/html": [
       "<div>\n",
       "<style scoped>\n",
       "    .dataframe tbody tr th:only-of-type {\n",
       "        vertical-align: middle;\n",
       "    }\n",
       "\n",
       "    .dataframe tbody tr th {\n",
       "        vertical-align: top;\n",
       "    }\n",
       "\n",
       "    .dataframe thead th {\n",
       "        text-align: right;\n",
       "    }\n",
       "</style>\n",
       "<table border=\"1\" class=\"dataframe\">\n",
       "  <thead>\n",
       "    <tr style=\"text-align: right;\">\n",
       "      <th></th>\n",
       "      <th>Description</th>\n",
       "      <th>TotalCost</th>\n",
       "    </tr>\n",
       "  </thead>\n",
       "  <tbody>\n",
       "    <tr>\n",
       "      <th>0</th>\n",
       "      <td>White Mug</td>\n",
       "      <td>4233589.55</td>\n",
       "    </tr>\n",
       "    <tr>\n",
       "      <th>1</th>\n",
       "      <td>USB Cable</td>\n",
       "      <td>4182061.54</td>\n",
       "    </tr>\n",
       "    <tr>\n",
       "      <th>2</th>\n",
       "      <td>Desk Lamp</td>\n",
       "      <td>4129032.71</td>\n",
       "    </tr>\n",
       "    <tr>\n",
       "      <th>3</th>\n",
       "      <td>Wall Clock</td>\n",
       "      <td>4126230.17</td>\n",
       "    </tr>\n",
       "    <tr>\n",
       "      <th>4</th>\n",
       "      <td>Backpack</td>\n",
       "      <td>4121197.10</td>\n",
       "    </tr>\n",
       "    <tr>\n",
       "      <th>5</th>\n",
       "      <td>Headphones</td>\n",
       "      <td>4121059.54</td>\n",
       "    </tr>\n",
       "    <tr>\n",
       "      <th>6</th>\n",
       "      <td>Blue Pen</td>\n",
       "      <td>4118767.28</td>\n",
       "    </tr>\n",
       "    <tr>\n",
       "      <th>7</th>\n",
       "      <td>Wireless Mouse</td>\n",
       "      <td>4093519.66</td>\n",
       "    </tr>\n",
       "    <tr>\n",
       "      <th>8</th>\n",
       "      <td>Notebook</td>\n",
       "      <td>4047828.20</td>\n",
       "    </tr>\n",
       "    <tr>\n",
       "      <th>9</th>\n",
       "      <td>Office Chair</td>\n",
       "      <td>4038945.22</td>\n",
       "    </tr>\n",
       "    <tr>\n",
       "      <th>10</th>\n",
       "      <td>T-shirt</td>\n",
       "      <td>4020700.17</td>\n",
       "    </tr>\n",
       "  </tbody>\n",
       "</table>\n",
       "</div>"
      ],
      "text/plain": [
       "       Description   TotalCost\n",
       "0        White Mug  4233589.55\n",
       "1        USB Cable  4182061.54\n",
       "2        Desk Lamp  4129032.71\n",
       "3       Wall Clock  4126230.17\n",
       "4         Backpack  4121197.10\n",
       "5       Headphones  4121059.54\n",
       "6         Blue Pen  4118767.28\n",
       "7   Wireless Mouse  4093519.66\n",
       "8         Notebook  4047828.20\n",
       "9     Office Chair  4038945.22\n",
       "10         T-shirt  4020700.17"
      ]
     },
     "execution_count": 57,
     "metadata": {},
     "output_type": "execute_result"
    }
   ],
   "source": [
    "Product_with_the_highest_sales = os_df.groupby('Description')[['TotalCost']].sum().sort_values('TotalCost', ascending = False).reset_index()\n",
    "Product_with_the_highest_sales"
   ]
  },
  {
   "cell_type": "code",
   "execution_count": 58,
   "id": "0a5c0a5a-c2d3-4c0d-8203-693e795b328c",
   "metadata": {},
   "outputs": [
    {
     "name": "stdout",
     "output_type": "stream",
     "text": [
      "PaymentMethod\n",
      "Bank Transfer    16439\n",
      "Credit Card      16214\n",
      "Paypall          16133\n",
      "Name: count, dtype: int64\n"
     ]
    }
   ],
   "source": [
    "Payment_Method = os_df['PaymentMethod'].value_counts()\n",
    "print(Payment_Method)"
   ]
  },
  {
   "cell_type": "code",
   "execution_count": 59,
   "id": "c7cfc717-effd-4417-997c-3b9fe82789a3",
   "metadata": {},
   "outputs": [
    {
     "data": {
      "image/png": "[encoded data removed]",
      "text/plain": [
       "<Figure size 600x400 with 1 Axes>"
      ]
     },
     "metadata": {},
     "output_type": "display_data"
    }
   ],
   "source": [
    "plt.figure()\n",
    "plt.pie(Payment_Method, labels=Payment_Method.index, autopct='%1.1f%%',\n",
    "        startangle=90, colors=plt.cm.Greens(np.linspace(0.3,1,len(Payment_Method))))\n",
    "plt.title('Payment Method Distribution')\n",
    "plt.show()"
   ]
  },
  {
   "cell_type": "code",
   "execution_count": 60,
   "id": "018b7e0b-870e-4717-93f4-6264afb34760",
   "metadata": {},
   "outputs": [
    {
     "name": "stdout",
     "output_type": "stream",
     "text": [
      "SalesChannel\n",
      "Online      24542\n",
      "In-store    24244\n",
      "Name: count, dtype: int64\n",
      "\n",
      "ReturnStatus\n",
      "Not Returned    43990\n",
      "Returned         4796\n",
      "Name: count, dtype: int64\n",
      "\n",
      "ShipmentProvider\n",
      "FedEx         12267\n",
      "Royal Mail    12180\n",
      "UPS           12174\n",
      "DHL           12165\n",
      "Name: count, dtype: int64\n"
     ]
    }
   ],
   "source": [
    "Count_of_sales_channel = os_df['SalesChannel'].value_counts()\n",
    "print(Count_of_sales_channel)\n",
    "print(              )\n",
    "\n",
    "Count_of_Return_Status = os_df['ReturnStatus'].value_counts()\n",
    "print(Count_of_Return_Status)\n",
    "print(              )\n",
    "\n",
    "Count_of_Shipment_Provider = os_df['ShipmentProvider'].value_counts()\n",
    "print(Count_of_Shipment_Provider)"
   ]
  },
  {
   "cell_type": "code",
   "execution_count": 61,
   "id": "2fe65e52-6b83-4b2b-9dfe-b84117059c4f",
   "metadata": {},
   "outputs": [
    {
     "data": {
      "image/png": "[encoded data removed]",
      "text/plain": [
       "<Figure size 800x800 with 1 Axes>"
      ]
     },
     "metadata": {},
     "output_type": "display_data"
    }
   ],
   "source": [
    "plt.figure(figsize=(8,8))\n",
    "plt.pie(Count_of_Shipment_Provider, labels=Count_of_Shipment_Provider.index, autopct= '%1.1f%%',\n",
    "        startangle=120, colors=plt.cm.Greens(np.linspace(0.3,1, len(Count_of_Shipment_Provider))))\n",
    "\n",
    "centre_circle = plt.Circle((0,0),0.70,fc='White')\n",
    "fig = plt.gcf()\n",
    "fig.gca().add_artist(centre_circle)\n",
    "\n",
    "plt.title('Shipment Provider Distribution')\n",
    "plt.axis('equal')\n",
    "plt.show()"
   ]
  },
  {
   "cell_type": "code",
   "execution_count": 62,
   "id": "3e34eb2c-af1f-4b3d-8608-0532384dea8e",
   "metadata": {},
   "outputs": [
    {
     "data": {
      "image/png": "[encoded data removed]",
      "text/plain": [
       "<Figure size 600x400 with 1 Axes>"
      ]
     },
     "metadata": {},
     "output_type": "display_data"
    },
    {
     "data": {
      "image/png": "[encoded data removed]",
      "text/plain": [
       "<Figure size 600x400 with 1 Axes>"
      ]
     },
     "metadata": {},
     "output_type": "display_data"
    }
   ],
   "source": [
    "plt.figure(figsize=(6,4))\n",
    "plt.bar(Count_of_Return_Status.index, Count_of_Return_Status.values, color=['green','red'])\n",
    "plt.xlabel('Return Status')\n",
    "plt.ylabel('Count')\n",
    "plt.title('Return Status Distribution')\n",
    "plt.show()\n",
    "\n",
    "plt.figure(figsize=(6,4))\n",
    "plt.bar(Count_of_sales_channel.index,Count_of_sales_channel.values, color=['blue','orange'])\n",
    "plt.xlabel('Sales Channel')\n",
    "plt.ylabel('Count')\n",
    "plt.title('Sales Channel Distribution')\n",
    "plt.show()"
   ]
  },
  {
   "cell_type": "code",
   "execution_count": 264,
   "id": "f64dc593-b45c-4ec0-a9c8-feccc4a6040b",
   "metadata": {},
   "outputs": [
    {
     "name": "stdout",
     "output_type": "stream",
     "text": [
      "ReturnStatus  WarehouseLocation\n",
      "Not Returned  Amsterdam            8991\n",
      "              Rome                 8786\n",
      "              London               8772\n",
      "              Berlin               8733\n",
      "              Paris                8708\n",
      "Returned      Amsterdam             984\n",
      "              Berlin                966\n",
      "              Paris                 965\n",
      "              London                947\n",
      "              Rome                  934\n",
      "Name: count, dtype: int64\n"
     ]
    }
   ],
   "source": [
    "ReturnSatus_on_warehouseLocation= os_df.groupby('ReturnStatus')['WarehouseLocation' ,].value_counts()\n",
    "print(ReturnSatus_on_warehouseLocation)"
   ]
  },
  {
   "cell_type": "code",
   "execution_count": 270,
   "id": "b3ea8f19-3e36-4ddd-a95d-b74f58ae1ea6",
   "metadata": {},
   "outputs": [
    {
     "data": {
      "image/png": "[encoded data removed]",
      "text/plain": [
       "<Figure size 1000x500 with 1 Axes>"
      ]
     },
     "metadata": {},
     "output_type": "display_data"
    }
   ],
   "source": [
    "#Non returned green, while returned is in red\n",
    "\n",
    "colors = ['green' if status == 'Not Returned' else 'red' for status in ReturnStatus_on_warehouseLocation['ReturnStatus']]\n",
    "fig, ax = plt.subplots(figsize=(10, 5))\n",
    "ax.bar(ReturnStatus_on_warehouseLocation['WarehouseLocation'], ReturnStatus_on_warehouseLocation['Counts'], color=colors)\n",
    "plt.title('Return Status by Warehouse Location') \n",
    "plt.xlabel('Warehouse Location')\n",
    "plt.ylabel('Counts') \n",
    "plt.show()\n",
    "\n",
    "\n"
   ]
  },
  {
   "cell_type": "code",
   "execution_count": 184,
   "id": "24c740cb-3eac-4ffc-b11f-9cc3afd47a09",
   "metadata": {},
   "outputs": [
    {
     "name": "stdout",
     "output_type": "stream",
     "text": [
      "               TotalCost\n",
      "InvoiceMonth            \n",
      "1             4048975.00\n",
      "2             3692173.18\n",
      "3             4056699.27\n",
      "4             3942847.25\n",
      "5             4004554.93\n",
      "6             3915871.26\n",
      "7             3981157.58\n",
      "8             4093227.24\n",
      "9             3396513.07\n",
      "10            3421385.53\n",
      "11            3314205.17\n",
      "12            3365321.66\n"
     ]
    }
   ],
   "source": [
    "InvoiceMonth_TotalCost = os_df.groupby('InvoiceMonth')['TotalCost' ,].sum()\n",
    "print(InvoiceMonth_TotalCost)\n"
   ]
  },
  {
   "cell_type": "code",
   "execution_count": 64,
   "id": "a0d3dd87-5569-4225-ab9c-106a01727250",
   "metadata": {},
   "outputs": [
    {
     "data": {
      "image/png": "[encoded data removed]",
      "text/plain": [
       "<Figure size 1000x600 with 1 Axes>"
      ]
     },
     "metadata": {},
     "output_type": "display_data"
    }
   ],
   "source": [
    "plt.figure(figsize=(10,6))\n",
    "plt.plot(InvoiceMonth_TotalCost.index, InvoiceMonth_TotalCost.values,marker='o', linestyle='-', color='b')\n",
    "plt.xlabel('Invoice Month')\n",
    "plt.ylabel('Total Cost')\n",
    "plt.title('Monthly Sales Trend')\n",
    "plt.grid(True)\n",
    "plt.show()"
   ]
  },
  {
   "cell_type": "code",
   "execution_count": 188,
   "id": "27b8418c-df24-4bb3-82c4-c6b1ea48a53d",
   "metadata": {},
   "outputs": [
    {
     "name": "stdout",
     "output_type": "stream",
     "text": [
      "CustomerID\n",
      "84431    9730.01\n",
      "81067    9615.88\n",
      "81631    8604.57\n",
      "98923    8591.73\n",
      "80001    8496.17\n",
      "Name: TotalCost, dtype: float64\n"
     ]
    }
   ],
   "source": [
    "Top_5_customer = os_df.groupby('CustomerID')['TotalCost'].sum().sort_values(ascending = False).head(6)\n",
    "\n",
    "Top_5_customer = Top_5_customer[Top_5_customer.index !='Unknown']\n",
    "print(Top_5_customer)"
   ]
  },
  {
   "cell_type": "code",
   "execution_count": 154,
   "id": "34cca68a-9eb1-42b9-ac45-e6508f6a188d",
   "metadata": {},
   "outputs": [
    {
     "name": "stdout",
     "output_type": "stream",
     "text": [
      "  CustomerID  count\n",
      "0      81631      5\n",
      "1      80001      4\n",
      "2      81067      3\n",
      "3      98923      3\n",
      "4      84431      3\n"
     ]
    }
   ],
   "source": [
    "Customer_ids = ['84431','81067','81631','98923','80001']\n",
    "Top_5_customer_count = pd.DataFrame(os_df[os_df['CustomerID'].isin(Customer_ids)]\n",
    "                                    ['CustomerID'].value_counts()).reset_index()\n",
    "print(Top_5_customer_count)"
   ]
  },
  {
   "cell_type": "code",
   "execution_count": 172,
   "id": "17f9a504-f366-4736-b910-c53d699cb0ab",
   "metadata": {},
   "outputs": [
    {
     "data": {
      "image/png": "[encoded data removed]",
      "text/plain": [
       "<Figure size 1000x800 with 2 Axes>"
      ]
     },
     "metadata": {},
     "output_type": "display_data"
    }
   ],
   "source": [
    "# Checking the correlation of numerical values\n",
    "correlation_matrix = os_df[['InvoiceNo','Quantity','UnitPrice','Discount','ShippingCost','TotalCost']].corr()\n",
    "\n",
    "plt.figure(figsize=(10,8))\n",
    "sb.heatmap(correlation_matrix, annot=True, cmap= 'coolwarm',linewidths=.5)\n",
    "plt.title('Heatmap Correlation Among Numberical Figures')\n",
    "plt.show()"
   ]
  },
  {
   "cell_type": "markdown",
   "id": "bca6ceb6-c38f-4060-a9a9-749076651f86",
   "metadata": {},
   "source": [
    "# Conclusion\n"
   ]
  },
  {
   "cell_type": "markdown",
   "id": "41a2ee7b-2ea5-415a-b67c-5bb115e64d20",
   "metadata": {},
   "source": [
    "***This analysis shows customers behavior on payment pattarns, method of purchase and quantities.***\n",
    "\n",
    "***It further highlights areas for improvement based on product performance, return rates.***"
   ]
  },
  {
   "cell_type": "code",
   "execution_count": null,
   "id": "e4d927a7-c38d-4d84-ac79-bf8a714a271c",
   "metadata": {},
   "outputs": [],
   "source": []
  }
 ],
 "metadata": {
  "kernelspec": {
   "display_name": "Python 3 (ipykernel)",
   "language": "python",
   "name": "python3"
  },
  "language_info": {
   "codemirror_mode": {
    "name": "ipython",
    "version": 3
   },
   "file_extension": ".py",
   "mimetype": "text/x-python",
   "name": "python",
   "nbconvert_exporter": "python",
   "pygments_lexer": "ipython3",
   "version": "3.11.7"
  }
 },
 "nbformat": 4,
 "nbformat_minor": 5
}
